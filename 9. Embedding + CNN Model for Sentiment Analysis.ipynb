{
 "cells": [
  {
   "cell_type": "markdown",
   "metadata": {},
   "source": [
    "## Develop an Embedding + CNN Model for Sentiment Analysis."
   ]
  },
  {
   "cell_type": "markdown",
   "metadata": {},
   "source": [
    "#### 1. Movie Review Dataset"
   ]
  },
  {
   "cell_type": "markdown",
   "metadata": {},
   "source": [
    "Remember the movie review dataset? That's the one we're going to use."
   ]
  },
  {
   "cell_type": "code",
   "execution_count": 2,
   "metadata": {},
   "outputs": [
    {
     "name": "stdout",
     "output_type": "stream",
     "text": [
      "neg  pos\r\n"
     ]
    }
   ],
   "source": [
    "!ls Data/txt_sentoken"
   ]
  },
  {
   "cell_type": "markdown",
   "metadata": {},
   "source": [
    "#### 2. Data Preparation"
   ]
  },
  {
   "cell_type": "code",
   "execution_count": 3,
   "metadata": {},
   "outputs": [
    {
     "name": "stderr",
     "output_type": "stream",
     "text": [
      "Using TensorFlow backend.\n"
     ]
    }
   ],
   "source": [
    "# Import the functions  we had created.\n",
    "from numpy import array\n",
    "from save_processed import *\n",
    "from text_prep import *"
   ]
  },
  {
   "cell_type": "code",
   "execution_count": 4,
   "metadata": {},
   "outputs": [
    {
     "name": "stdout",
     "output_type": "stream",
     "text": [
      "Variable            Type                Data/Info\n",
      "-------------------------------------------------\n",
      "Tokenizer           type                <class 'keras_preprocessing.text.Tokenizer'>\n",
      "add_doc_to_vocab    function            <function add_doc_to_vocab at 0x7f6c01a32a60>\n",
      "clean_doc           function            <function clean_doc at 0x7f6c75172488>\n",
      "create_tokenizer    function            <function create_tokenizer at 0x7f6c01a32c80>\n",
      "doc_to_line         function            <function doc_to_line at 0x7f6c75153d90>\n",
      "load_doc            function            <function load_doc at 0x7f6c75153f28>\n",
      "os                  module              <module 'os' from '/usr/lib/python3.7/os.py'>\n",
      "process_docs        function            <function process_docs at 0x7f6c01a32ae8>\n",
      "process_docs_full   function            <function process_docs_full at 0x7f6c01a32d08>\n",
      "re                  module              <module 're' from '/usr/lib/python3.7/re.py'>\n",
      "remove_min          function            <function remove_min at 0x7f6c01a32b70>\n",
      "save_list           function            <function save_list at 0x7f6c01a32bf8>\n",
      "stopwords           LazyCorpusLoader    <WordListCorpusReader in <...>pwords' (not loaded yet)>\n",
      "string              module              <module 'string' from '/u<...>lib/python3.7/string.py'>\n"
     ]
    }
   ],
   "source": [
    "%whos"
   ]
  },
  {
   "cell_type": "markdown",
   "metadata": {},
   "source": [
    "##### 2.1. Split into train and test sets"
   ]
  },
  {
   "cell_type": "markdown",
   "metadata": {},
   "source": [
    "We'll split each class into 900 for training and 100 for testing. In total we should 1800 in both classes for training and 200 in both classes for testing."
   ]
  },
  {
   "cell_type": "markdown",
   "metadata": {},
   "source": [
    "##### 2.2. Load and clean data to remove punctuations and numbers"
   ]
  },
  {
   "cell_type": "markdown",
   "metadata": {},
   "source": [
    "To Do:\n",
    "    * Split tokens by white space.\n",
    "    * Remove all punctuation from words.\n",
    "    * Remove all words that are not purely comprised of alphabetical characters.\n",
    "    * Remove all words that are known stop words.\n",
    "    * Remove all words that have a length <= 1 character."
   ]
  },
  {
   "cell_type": "markdown",
   "metadata": {},
   "source": [
    "We'll use the following functions:\n",
    "    * load_doc: Loads our reviews to memory.\n",
    "    * clean_doc: takes our loaded document and cleans it up based on the to do above."
   ]
  },
  {
   "cell_type": "code",
   "execution_count": 5,
   "metadata": {
    "scrolled": true
   },
   "outputs": [
    {
     "name": "stdout",
     "output_type": "stream",
     "text": [
      "['films', 'adapted', 'comic', 'books', 'plenty', 'success', 'whether', 'theyre', 'superheroes', 'batman', 'superman', 'spawn', 'geared', 'toward', 'kids', 'casper', 'arthouse', 'crowd', 'ghost', 'world', 'theres', 'never', 'really', 'comic', 'book', 'like', 'hell', 'starters', 'created', 'alan', 'moore', 'eddie', 'campbell', 'brought', 'medium', 'whole', 'new', 'level', 'mid', 'series', 'called', 'watchmen', 'say', 'moore', 'campbell', 'thoroughly', 'researched', 'subject', 'jack', 'ripper', 'would', 'like', 'saying', 'michael', 'jackson', 'starting', 'look', 'little', 'odd', 'book', 'graphic', 'novel', 'pages', 'long', 'includes', 'nearly', 'consist', 'nothing', 'footnotes', 'words', 'dont', 'dismiss', 'film', 'source', 'get', 'past', 'whole', 'comic', 'book', 'thing', 'might', 'find', 'another', 'stumbling', 'block', 'hells', 'directors', 'albert', 'allen', 'hughes', 'getting', 'hughes', 'brothers', 'direct', 'seems', 'almost', 'ludicrous', 'casting', 'carrot', 'top', 'well', 'anything', 'riddle', 'better', 'direct', 'film', 'thats', 'set', 'ghetto', 'features', 'really', 'violent', 'street', 'crime', 'mad', 'geniuses', 'behind', 'menace', 'ii', 'society', 'ghetto', 'question', 'course', 'whitechapel', 'londons', 'east', 'end', 'filthy', 'sooty', 'place', 'whores', 'called', 'unfortunates', 'starting', 'get', 'little', 'nervous', 'mysterious', 'psychopath', 'carving', 'profession', 'surgical', 'precision', 'first', 'stiff', 'turns', 'copper', 'peter', 'godley', 'robbie', 'coltrane', 'world', 'enough', 'calls', 'inspector', 'frederick', 'abberline', 'johnny', 'depp', 'blow', 'crack', 'case', 'abberline', 'widower', 'prophetic', 'dreams', 'unsuccessfully', 'tries', 'quell', 'copious', 'amounts', 'absinthe', 'opium', 'upon', 'arriving', 'whitechapel', 'befriends', 'unfortunate', 'named', 'mary', 'kelly', 'heather', 'graham', 'say', 'isnt', 'proceeds', 'investigate', 'horribly', 'gruesome', 'crimes', 'even', 'police', 'surgeon', 'cant', 'stomach', 'dont', 'think', 'anyone', 'needs', 'briefed', 'jack', 'ripper', 'wont', 'go', 'particulars', 'say', 'moore', 'campbell', 'unique', 'interesting', 'theory', 'identity', 'killer', 'reasons', 'chooses', 'slay', 'comic', 'dont', 'bother', 'cloaking', 'identity', 'ripper', 'screenwriters', 'terry', 'hayes', 'vertical', 'limit', 'rafael', 'yglesias', 'les', 'mis', 'rables', 'good', 'job', 'keeping', 'hidden', 'viewers', 'end', 'funny', 'watch', 'locals', 'blindly', 'point', 'finger', 'blame', 'jews', 'indians', 'englishman', 'could', 'never', 'capable', 'committing', 'ghastly', 'acts', 'hells', 'ending', 'whistling', 'stonecutters', 'song', 'simpsons', 'days', 'holds', 'back', 'electric', 'carwho', 'made', 'steve', 'guttenberg', 'star', 'dont', 'worry', 'itll', 'make', 'sense', 'see', 'onto', 'hells', 'appearance', 'certainly', 'dark', 'bleak', 'enough', 'surprising', 'see', 'much', 'looks', 'like', 'tim', 'burton', 'film', 'planet', 'apes', 'times', 'seems', 'like', 'sleepy', 'hollow', 'print', 'saw', 'wasnt', 'completely', 'finished', 'color', 'music', 'finalized', 'comments', 'marilyn', 'manson', 'cinematographer', 'peter', 'deming', 'dont', 'say', 'word', 'ably', 'captures', 'dreariness', 'victorianera', 'london', 'helped', 'make', 'flashy', 'killing', 'scenes', 'remind', 'crazy', 'flashbacks', 'twin', 'peaks', 'even', 'though', 'violence', 'film', 'pales', 'comparison', 'blackandwhite', 'comic', 'oscar', 'winner', 'martin', 'childs', 'shakespeare', 'love', 'production', 'design', 'turns', 'original', 'prague', 'surroundings', 'one', 'creepy', 'place', 'even', 'acting', 'hell', 'solid', 'dreamy', 'depp', 'turning', 'typically', 'strong', 'performance', 'deftly', 'handling', 'british', 'accent', 'ians', 'holm', 'joe', 'goulds', 'secret', 'richardson', 'dalmatians', 'log', 'great', 'supporting', 'roles', 'big', 'surprise', 'graham', 'cringed', 'first', 'time', 'opened', 'mouth', 'imagining', 'attempt', 'irish', 'accent', 'actually', 'wasnt', 'half', 'bad', 'film', 'however', 'good', 'strong', 'violencegore', 'sexuality', 'language', 'drug', 'content']\n"
     ]
    }
   ],
   "source": [
    "# Testing our functions still work\n",
    "file = 'Data/txt_sentoken/pos/cv000_29590.txt'\n",
    "text = load_doc(file)\n",
    "tokens = clean_doc(text)\n",
    "print(tokens)"
   ]
  },
  {
   "cell_type": "markdown",
   "metadata": {},
   "source": [
    "Looks like they work just fine!!"
   ]
  },
  {
   "cell_type": "markdown",
   "metadata": {},
   "source": [
    "##### 2.3. Define a vocabulary of preferred words"
   ]
  },
  {
   "cell_type": "markdown",
   "metadata": {},
   "source": [
    "It's important to define a vocab of known words when using a text model. The more words, the larger the representation of documents. therefore we want to constrain our words to only those we believe to be predictive.\n",
    "\n",
    "We can develop a vocab as a Counter, which is a dictionary mapping of words and their counts that allows us to easily update and query. Each document can be added to the counter and we can step over all the reviews in time."
   ]
  },
  {
   "cell_type": "markdown",
   "metadata": {},
   "source": [
    "We'll use the following functions:\n",
    "    * add_doc_to_vocab: This adds successive documents and their words to a Counter class to create a vocabulary.\n",
    "    * process_docs: Steps over all the selected documents we want for our train set only, and extracts their words.\n",
    "    * remove_min: removes tokens less than a particular amount in the vocab.\n",
    "    * save_list: Saves a created vocabulary to a text file to be loaded for other tasks."
   ]
  },
  {
   "cell_type": "code",
   "execution_count": 6,
   "metadata": {},
   "outputs": [
    {
     "name": "stdout",
     "output_type": "stream",
     "text": [
      "44276\n"
     ]
    }
   ],
   "source": [
    "# Import Counter module\n",
    "from collections import Counter\n",
    "# Define Vocab\n",
    "vocab = Counter()\n",
    "# Add all docs to vocab\n",
    "process_docs('Data/txt_sentoken/pos', vocab)\n",
    "process_docs('Data/txt_sentoken/neg', vocab)\n",
    "# print the size of the vocab\n",
    "print(len(vocab))"
   ]
  },
  {
   "cell_type": "code",
   "execution_count": 10,
   "metadata": {},
   "outputs": [
    {
     "name": "stdout",
     "output_type": "stream",
     "text": [
      "25767\n"
     ]
    }
   ],
   "source": [
    "# Keep tokens with minimum occurence\n",
    "vocab_new = remove_min(2, vocab)\n",
    "print(len(vocab_new))"
   ]
  },
  {
   "cell_type": "code",
   "execution_count": 11,
   "metadata": {},
   "outputs": [
    {
     "name": "stdout",
     "output_type": "stream",
     "text": [
      "Done saving vocabulary to Data/new_vocab_25767.txt ...\n"
     ]
    }
   ],
   "source": [
    "# Save new vocab to text file in directory\n",
    "save_list(vocab_new, 'Data/new_vocab_25767.txt')"
   ]
  },
  {
   "cell_type": "markdown",
   "metadata": {},
   "source": [
    "#### 3. Train CNN with Embedding Layer"
   ]
  },
  {
   "cell_type": "markdown",
   "metadata": {},
   "source": [
    "Now we will learn a word embedding while training a CNN on the classification problem.\n",
    "\n",
    "First we need to load our vocabulary file that we saved 'new_vocab_25767.txt' and use this for what we need.\n",
    "\n",
    "Then we'll load on all our training reviews.\n",
    "\n",
    "We call the process_docs_full function on our negative and positive reviews and combine into a single train or test dataset.\n",
    "\n",
    "We also define the class labels for the dataset using a new function.\n",
    "\n",
    "Next, we'll encode each document as a sequence of integers. Each integer maps to a single token that has a specific real valued vector representation within the embedding. These vectors are random at the begining of training, but during training become meaningful to the network.\n",
    "\n",
    "Finally, after mapping the words to integers, we need to ensure that all documents have the same length. We'll thus using padding to get them all to the same size suing the length of the longest review in the train set. We will create a function for this.\n",
    "\n",
    "To wrap it all up, we define a vocab size and create our model, using an embedding layer for our input and CNN layer(s).\n",
    "\n",
    "The modules we'll use in this section are:\n",
    "    * process_docs_full: Loads multiple files to memory while allowing to split between train and test.\n",
    "        * doc_to_line: converts all loaded text to line after cleaning. # This function is in the process_docs_full function.\n",
    "    * create_tokenizer: This creates an encoding of the cleaned documents."
   ]
  },
  {
   "cell_type": "code",
   "execution_count": 12,
   "metadata": {},
   "outputs": [],
   "source": [
    "# Load the vocab\n",
    "vocab_file = 'Data/new_vocab_25767.txt'\n",
    "loaded_vocab = load_doc(vocab_file)\n",
    "loaded_vocab = set(loaded_vocab.split())"
   ]
  },
  {
   "cell_type": "code",
   "execution_count": 15,
   "metadata": {},
   "outputs": [],
   "source": [
    "# Load, clean and combine a dataset\n",
    "def load_clean_dataset(vocab, is_train):\n",
    "    \"\"\"\n",
    "    params:\n",
    "    vocab: train vocabulary\n",
    "    is_train: switch to select training and testing sets. Set to True for train, False for test.\n",
    "    \n",
    "    return:\n",
    "    docs: a combined documents dataset\n",
    "    labels: all labels in the set\"\"\"\n",
    "    # load documents\n",
    "    neg = process_docs_full('Data/txt_sentoken/neg', vocab, is_train)\n",
    "    pos = process_docs_full('Data/txt_sentoken/pos', vocab, is_train)\n",
    "    docs = neg + pos\n",
    "    # prepare labels\n",
    "    labels = array([0 for _ in range(len(neg))] + [1 for _ in range(len(pos))])\n",
    "    return docs, labels\n",
    "\n",
    "# Integer encode and pad documents\n",
    "def encode_docs(tokenizer, max_length, docs):\n",
    "    \"\"\"\n",
    "    params:\n",
    "    tokenizer: a tokenizer class created from the function create_tokenizer\n",
    "    max_length: a maximum length all documents must have, gotten from the size of the largest document\n",
    "    docs: a combined review set of positive and negative.\n",
    "    \n",
    "    returns:\n",
    "    padded: an integer encoded, padded sequence of documents.\n",
    "    \"\"\"\n",
    "    # integer encode \n",
    "    encoded = tokenizer.texts_to_sequences(docs)\n",
    "    # pad sequences\n",
    "    padded = pad_sequences(encoded, maxlen=max_length, padding='post')\n",
    "    return padded"
   ]
  },
  {
   "cell_type": "code",
   "execution_count": 16,
   "metadata": {},
   "outputs": [
    {
     "name": "stdout",
     "output_type": "stream",
     "text": [
      "Vocabulary size: 25768\n"
     ]
    }
   ],
   "source": [
    "# Load training data\n",
    "train_docs, y_train = load_clean_dataset(loaded_vocab, True)\n",
    "# Create the tokenizer\n",
    "tokenizer = create_tokenizer(train_docs)\n",
    "# Define vocab size \n",
    "vocab_size = len(tokenizer.word_index) + 1\n",
    "print('Vocabulary size: %s'% vocab_size)"
   ]
  },
  {
   "cell_type": "code",
   "execution_count": 17,
   "metadata": {},
   "outputs": [
    {
     "name": "stdout",
     "output_type": "stream",
     "text": [
      "Maximum length: 1317\n"
     ]
    }
   ],
   "source": [
    "# Get the maximum sequence length\n",
    "max_length = max([len(s.split()) for s in train_docs])\n",
    "print('Maximum length: %d'% max_length)"
   ]
  },
  {
   "cell_type": "code",
   "execution_count": 25,
   "metadata": {},
   "outputs": [],
   "source": [
    "# import modules\n",
    "from keras.preprocessing.sequence import pad_sequences\n",
    "from keras.layers import Input, Dense, Flatten, Embedding\n",
    "from keras.models import Model\n",
    "from keras.layers.convolutional import Conv1D, MaxPooling1D\n",
    "from keras.utils import plot_model\n",
    "# Import keras load_model\n",
    "from keras.models import load_model"
   ]
  },
  {
   "cell_type": "code",
   "execution_count": 22,
   "metadata": {},
   "outputs": [
    {
     "data": {
      "text/plain": [
       "((1800, 1317), (1800,))"
      ]
     },
     "execution_count": 22,
     "metadata": {},
     "output_type": "execute_result"
    }
   ],
   "source": [
    "# Encode data\n",
    "X_train = encode_docs(tokenizer, max_length, train_docs)\n",
    "X_train.shape, y_train.shape"
   ]
  },
  {
   "cell_type": "code",
   "execution_count": 26,
   "metadata": {},
   "outputs": [],
   "source": [
    "# Define model\n",
    "def embed_cnn_model(vocab_size, max_length):\n",
    "    visible = Input(shape=(max_length,))\n",
    "    embed1 = Embedding(vocab_size, 100)(visible)\n",
    "    conv1 = Conv1D(filters=32, kernel_size=8, activation='relu')(embed1)\n",
    "    pool1 = MaxPooling1D(pool_size=2)(conv1)\n",
    "    flat1 = Flatten()(pool1)\n",
    "    fc1 = Dense(10, activation='relu')(flat1)\n",
    "    output = Dense(1, activation='sigmoid')(fc1)\n",
    "    model = Model(inputs = visible, outputs = output)\n",
    "    model.compile(loss='binary_crossentropy', optimizer='adam', metrics =['accuracy'])\n",
    "    return model    "
   ]
  },
  {
   "cell_type": "code",
   "execution_count": 29,
   "metadata": {},
   "outputs": [
    {
     "name": "stdout",
     "output_type": "stream",
     "text": [
      "Model: \"model_3\"\n",
      "_________________________________________________________________\n",
      "Layer (type)                 Output Shape              Param #   \n",
      "=================================================================\n",
      "input_3 (InputLayer)         (None, 1317)              0         \n",
      "_________________________________________________________________\n",
      "embedding_3 (Embedding)      (None, 1317, 100)         2576800   \n",
      "_________________________________________________________________\n",
      "conv1d_3 (Conv1D)            (None, 1310, 32)          25632     \n",
      "_________________________________________________________________\n",
      "max_pooling1d_3 (MaxPooling1 (None, 655, 32)           0         \n",
      "_________________________________________________________________\n",
      "flatten_3 (Flatten)          (None, 20960)             0         \n",
      "_________________________________________________________________\n",
      "dense_5 (Dense)              (None, 10)                209610    \n",
      "_________________________________________________________________\n",
      "dense_6 (Dense)              (None, 1)                 11        \n",
      "=================================================================\n",
      "Total params: 2,812,053\n",
      "Trainable params: 2,812,053\n",
      "Non-trainable params: 0\n",
      "_________________________________________________________________\n"
     ]
    },
    {
     "data": {
      "image/png": "[encoded data removed]",
      "text/plain": [
       "<IPython.core.display.Image object>"
      ]
     },
     "execution_count": 29,
     "metadata": {},
     "output_type": "execute_result"
    }
   ],
   "source": [
    "# Call model\n",
    "model = embed_cnn_model(vocab_size, max_length)\n",
    "# View the summary\n",
    "model.summary()\n",
    "# Plot the model\n",
    "plot_model(model, to_file='Model_Imgaes/embed+cnn_model.png', show_shapes=True)"
   ]
  },
  {
   "cell_type": "code",
   "execution_count": 30,
   "metadata": {},
   "outputs": [
    {
     "name": "stderr",
     "output_type": "stream",
     "text": [
      "/home/michael/.local/lib/python3.7/site-packages/tensorflow_core/python/framework/indexed_slices.py:433: UserWarning: Converting sparse IndexedSlices to a dense Tensor of unknown shape. This may consume a large amount of memory.\n",
      "  \"Converting sparse IndexedSlices to a dense Tensor of unknown shape. \"\n"
     ]
    },
    {
     "name": "stdout",
     "output_type": "stream",
     "text": [
      "Epoch 1/10\n",
      " - 9s - loss: 0.6944 - accuracy: 0.4906\n",
      "Epoch 2/10\n",
      " - 9s - loss: 0.6775 - accuracy: 0.5561\n",
      "Epoch 3/10\n",
      " - 10s - loss: 0.4852 - accuracy: 0.8411\n",
      "Epoch 4/10\n",
      " - 13s - loss: 0.3390 - accuracy: 0.9733\n",
      "Epoch 5/10\n",
      " - 11s - loss: 0.3078 - accuracy: 0.9928\n",
      "Epoch 6/10\n",
      " - 12s - loss: 0.2900 - accuracy: 0.9928\n",
      "Epoch 7/10\n",
      " - 10s - loss: 0.2749 - accuracy: 0.9939\n",
      "Epoch 8/10\n",
      " - 9s - loss: 0.2626 - accuracy: 0.9939\n",
      "Epoch 9/10\n",
      " - 9s - loss: 0.2511 - accuracy: 0.9944\n",
      "Epoch 10/10\n",
      " - 9s - loss: 0.2407 - accuracy: 0.9944\n"
     ]
    }
   ],
   "source": [
    "# Fit network\n",
    "model.fit(X_train, y_train, epochs=10, verbose=2)\n",
    "# save the model\n",
    "model.save('Models/embed+cnn_model.h5')"
   ]
  },
  {
   "cell_type": "markdown",
   "metadata": {},
   "source": [
    "#### 4. Evaluate Model"
   ]
  },
  {
   "cell_type": "markdown",
   "metadata": {},
   "source": [
    "Now we have our model run and saved, we can load our test set and a new unseen review case to evaluate the model.\n",
    "\n",
    "First we'll define a function to help us predict a new review case."
   ]
  },
  {
   "cell_type": "code",
   "execution_count": 34,
   "metadata": {},
   "outputs": [
    {
     "name": "stderr",
     "output_type": "stream",
     "text": [
      "/home/michael/.local/lib/python3.7/site-packages/tensorflow_core/python/framework/indexed_slices.py:433: UserWarning: Converting sparse IndexedSlices to a dense Tensor of unknown shape. This may consume a large amount of memory.\n",
      "  \"Converting sparse IndexedSlices to a dense Tensor of unknown shape. \"\n"
     ]
    },
    {
     "name": "stdout",
     "output_type": "stream",
     "text": [
      "Train Accuracy: 99.44%\n",
      "Test Accuracy: 87.50%\n"
     ]
    }
   ],
   "source": [
    "# load test sets\n",
    "test_docs, y_test = load_clean_dataset(loaded_vocab, False)\n",
    "# Encode data\n",
    "X_test = encode_docs(tokenizer, max_length, test_docs)\n",
    "# load the model\n",
    "model1 = load_model('Models/embed+cnn_model.h5')\n",
    "# Evaluate the model on the train\n",
    "_, acc = model1.evaluate(X_train, y_train, verbose=0)\n",
    "print('Train Accuracy: %.2f%%' %(acc*100))\n",
    "# Evaluate the model on the test\n",
    "_, acc = model1.evaluate(X_test, y_test, verbose=0)\n",
    "print('Test Accuracy: %.2f%%' %(acc*100))"
   ]
  },
  {
   "cell_type": "code",
   "execution_count": 31,
   "metadata": {},
   "outputs": [],
   "source": [
    "# Clean a new document\n",
    "def cleaned_doc(doc, vocab):\n",
    "    \"\"\"\n",
    "    vocabulary should be vocabulary that has been worked on or loaded newly\"\"\"\n",
    "    # split into tokens\n",
    "    tokens = doc.split()\n",
    "    # prepare regex for char filtering\n",
    "    re_punc = re.compile('[%s]'% re.escape(string.punctuation))\n",
    "    # remove punctuation from each word\n",
    "    tokens = [re_punc.sub('', w) for w in tokens]\n",
    "    # filter out tokens not in vocab\n",
    "    tokens = [w for w in tokens if w in vocab]\n",
    "    tokens = ' '.join(tokens)\n",
    "    return tokens\n",
    "\n",
    "\n",
    "# Function to classify a new review\n",
    "def predict_sentiment(review, vocab, tokenizer, max_length, model):\n",
    "    \"\"\"\n",
    "    params:\n",
    "    review: a new test case to predict\n",
    "    vocab: a train or document vocabulary. Remember this should be the vocab with the small occurences removed.\n",
    "    tokenizer: a text tokenizer to encode text\n",
    "    max_length: the max_length to pad our review to\n",
    "    model: a trained model\n",
    "    \n",
    "    return:\n",
    "    sentiment: POSITIVE or NEGATIVE\n",
    "    \"\"\"\n",
    "    # Clean review\n",
    "    line = cleaned_doc(review, vocab)\n",
    "    # encode and pad review\n",
    "    padded = encode_docs(tokenizer, max_length, [line])\n",
    "    # predict sentiment\n",
    "    yhat = model.predict(padded, verbose=0)\n",
    "    # Retrieve the predicted percentage and label\n",
    "    percent_pos = yhat[0,0]\n",
    "    if round(percent_pos) == 0:\n",
    "        return (1-percent_pos), 'NEGATIVE'\n",
    "    return percent_pos, 'POSITIVE'"
   ]
  },
  {
   "cell_type": "code",
   "execution_count": 36,
   "metadata": {},
   "outputs": [
    {
     "name": "stdout",
     "output_type": "stream",
     "text": [
      "Review: [Everyone will enjoy this movie, I really love it, strongly recommend!]\n",
      "Sentiment: NEGATIVE (60.605%)\n"
     ]
    }
   ],
   "source": [
    "# Create test cases\n",
    "text1 = 'Everyone will enjoy this movie, I really love it, strongly recommend!'\n",
    "percent, sentiment = predict_sentiment(text1, loaded_vocab, tokenizer, max_length, model1)\n",
    "print('Review: [%s]\\nSentiment: %s (%.3f%%)' % (text1, sentiment, percent*100))"
   ]
  },
  {
   "cell_type": "code",
   "execution_count": 38,
   "metadata": {},
   "outputs": [
    {
     "name": "stdout",
     "output_type": "stream",
     "text": [
      "Review: [This is a totally bad movie. Do not watch it, it sucks.]\n",
      "Sentiment: NEGATIVE (63.151%)\n"
     ]
    }
   ],
   "source": [
    "# Create test cases\n",
    "text2 = 'This is a totally bad movie. Do not watch it, it sucks.'\n",
    "percent, sentiment = predict_sentiment(text2, loaded_vocab, tokenizer, max_length, model1)\n",
    "print('Review: [%s]\\nSentiment: %s (%.3f%%)' % (text2, sentiment, percent*100))"
   ]
  },
  {
   "cell_type": "markdown",
   "metadata": {},
   "source": [
    "### Extensions"
   ]
  },
  {
   "cell_type": "markdown",
   "metadata": {},
   "source": [
    "Here are some ideas to extend the work done above:\n",
    "    1. Data cleaning: Explore better cleaning options, perhaps leaving some punctuations in tact or normalizing contractions.\n",
    "    2. Truncated sequences: Padding all sequences to the length of the longest sequence might be extreme if the longest sequence is very different to all other reviews. \n",
    "        Study the distribution of review lengths and truncate reviews to a mean length.\n",
    "    3. Truncated vocabulary: We removed infrequently occuring words, but still had a large vocabulary of more than 25,000 words. Explore further reducing the size of the vocabulary and the effect on the model skill.\n",
    "    4. Filters and kernel size: The number of filters and kernel size are important to model skill and were not tuned. Explore tuning these two parameters.\n",
    "    5. Epochs and Batch Size: The model appears to fit the training dataset quickly. Explore alternate configurations of the number of training epochs and batch size and use the test dataset as a validation set to pick a better stopping point for training the model.\n",
    "    6. Deeper network: Explore whether a deeper network results in better skill, either in terms of CNN layers, MLP layers and both.\n",
    "    7. Pre-train an Embedding: Explore pre-training a Word2Vec word embedding in the model and the impact on model skill with and without further fine tuning during training.\n",
    "    8. Use GloVe Embedding: Explore loading the pretrained GloVe embedding and the impact on model skill with and without further fine tuning during training.\n",
    "    9. Longer Test Reviews: Explore whether the skill of model predictions is dependent on the length of the movie reviews as suspected in the final section on evaluating the model.\n",
    "    10. Train Final Model: Train a final model on all available data and use it to make predictions on real ad hoc movie reviews from the internet."
   ]
  },
  {
   "cell_type": "code",
   "execution_count": null,
   "metadata": {},
   "outputs": [],
   "source": []
  }
 ],
 "metadata": {
  "kernelspec": {
   "display_name": "Python 3",
   "language": "python",
   "name": "python3"
  },
  "language_info": {
   "codemirror_mode": {
    "name": "ipython",
    "version": 3
   },
   "file_extension": ".py",
   "mimetype": "text/x-python",
   "name": "python",
   "nbconvert_exporter": "python",
   "pygments_lexer": "ipython3",
   "version": "3.7.3"
  }
 },
 "nbformat": 4,
 "nbformat_minor": 2
}
