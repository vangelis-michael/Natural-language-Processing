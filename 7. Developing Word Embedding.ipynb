{
 "cells": [
  {
   "cell_type": "markdown",
   "metadata": {},
   "source": [
    "## How to Develop Word Embeddings with Gensim."
   ]
  },
  {
   "cell_type": "markdown",
   "metadata": {},
   "source": [
    "Modern Embedding algorithms like Word2Vec and GloVe can be used on Natural Language Processing problems like Machine Translation."
   ]
  },
  {
   "cell_type": "markdown",
   "metadata": {},
   "source": [
    "#### 1. Word Embeddings."
   ]
  },
  {
   "cell_type": "markdown",
   "metadata": {},
   "source": [
    "In word embeddings, we are trying to provide a dense vector representation of words that capture something about their meaning.\n",
    "\n",
    "They are an improvement over simpler bag of words model encoding schemses like word counts and frequencies that result in large and sparce vectors (mostly 0 values) that describe documents but not the meaning of the words.\n",
    "\n",
    "Word embeddings work by using an algorithm to train a set of fixed-length dense and continuous-valued vectors based on a large corpus of text. \n",
    "Each word is repesented by a point in the embedding space and these points are learned and moved around based on the words that surround the target word. This process of defining a word by the company it keeps that allows the word embeddings to learn something about the meaning of the words.\n",
    "\n",
    "This means words with similar meanings are locally clustered within the space."
   ]
  },
  {
   "cell_type": "markdown",
   "metadata": {},
   "source": [
    "#### 2. Gensim Library."
   ]
  },
  {
   "cell_type": "markdown",
   "metadata": {},
   "source": [
    "This is an open-source library for NLP, with a focus on topic modeling. It is not like the NLTK library, instead it is a focused an efficient suite of NLP tools for topic modeling.\n",
    "\n",
    "It also provides tools for loading pre-trained word embeddings in a few formats and for making use and querying a loaded embedding."
   ]
  },
  {
   "cell_type": "code",
   "execution_count": 1,
   "metadata": {},
   "outputs": [
    {
     "name": "stdout",
     "output_type": "stream",
     "text": [
      "Defaulting to user installation because normal site-packages is not writeable\n",
      "Collecting gensim\n",
      "  Downloading gensim-3.8.1-cp37-cp37m-manylinux1_x86_64.whl (24.2 MB)\n",
      "\u001b[K     |████████████████████████████████| 24.2 MB 1.3 MB/s eta 0:00:01     |████████████████▋               | 12.5 MB 1.5 MB/s eta 0:00:08\n",
      "\u001b[?25hRequirement already satisfied, skipping upgrade: numpy>=1.11.3 in /usr/lib/python3/dist-packages (from gensim) (1.16.2)\n",
      "Collecting smart-open>=1.8.1\n",
      "  Downloading smart_open-1.10.0.tar.gz (99 kB)\n",
      "\u001b[K     |████████████████████████████████| 99 kB 3.8 MB/s eta 0:00:011\n",
      "\u001b[?25hRequirement already satisfied, skipping upgrade: scipy>=0.18.1 in /home/michael/.local/lib/python3.7/site-packages (from gensim) (1.4.1)\n",
      "Requirement already satisfied, skipping upgrade: six>=1.5.0 in /usr/lib/python3/dist-packages (from gensim) (1.12.0)\n",
      "Requirement already satisfied, skipping upgrade: requests in /usr/lib/python3/dist-packages (from smart-open>=1.8.1->gensim) (2.21.0)\n",
      "Collecting boto3\n",
      "  Downloading boto3-1.12.31-py2.py3-none-any.whl (128 kB)\n",
      "\u001b[K     |████████████████████████████████| 128 kB 1.2 MB/s eta 0:00:01\n",
      "\u001b[?25hCollecting google-cloud-storage\n",
      "  Downloading google_cloud_storage-1.26.0-py2.py3-none-any.whl (75 kB)\n",
      "\u001b[K     |████████████████████████████████| 75 kB 3.5 MB/s eta 0:00:01\n",
      "\u001b[?25hCollecting jmespath<1.0.0,>=0.7.1\n",
      "  Downloading jmespath-0.9.5-py2.py3-none-any.whl (24 kB)\n",
      "Collecting s3transfer<0.4.0,>=0.3.0\n",
      "  Downloading s3transfer-0.3.3-py2.py3-none-any.whl (69 kB)\n",
      "\u001b[K     |████████████████████████████████| 69 kB 3.9 MB/s eta 0:00:01\n",
      "\u001b[?25hCollecting botocore<1.16.0,>=1.15.31\n",
      "  Downloading botocore-1.15.31-py2.py3-none-any.whl (6.0 MB)\n",
      "\u001b[K     |████████████████████████████████| 6.0 MB 1.0 MB/s eta 0:00:01\n",
      "\u001b[?25hCollecting google-resumable-media<0.6dev,>=0.5.0\n",
      "  Downloading google_resumable_media-0.5.0-py2.py3-none-any.whl (38 kB)\n",
      "Collecting google-cloud-core<2.0dev,>=1.2.0\n",
      "  Downloading google_cloud_core-1.3.0-py2.py3-none-any.whl (26 kB)\n",
      "Collecting google-auth<2.0dev,>=1.11.0\n",
      "  Downloading google_auth-1.12.0-py2.py3-none-any.whl (83 kB)\n",
      "\u001b[K     |████████████████████████████████| 83 kB 1.7 MB/s eta 0:00:01\n",
      "\u001b[?25hRequirement already satisfied, skipping upgrade: python-dateutil<3.0.0,>=2.1 in /usr/lib/python3/dist-packages (from botocore<1.16.0,>=1.15.31->boto3->smart-open>=1.8.1->gensim) (2.7.3)\n",
      "Requirement already satisfied, skipping upgrade: docutils<0.16,>=0.10 in /usr/lib/python3/dist-packages (from botocore<1.16.0,>=1.15.31->boto3->smart-open>=1.8.1->gensim) (0.14)\n",
      "Requirement already satisfied, skipping upgrade: urllib3<1.26,>=1.20; python_version != \"3.4\" in /usr/lib/python3/dist-packages (from botocore<1.16.0,>=1.15.31->boto3->smart-open>=1.8.1->gensim) (1.24.1)\n",
      "Collecting google-api-core<2.0.0dev,>=1.16.0\n",
      "  Downloading google_api_core-1.16.0-py2.py3-none-any.whl (70 kB)\n",
      "\u001b[K     |████████████████████████████████| 70 kB 2.6 MB/s eta 0:00:01\n",
      "\u001b[?25hRequirement already satisfied, skipping upgrade: rsa<4.1,>=3.1.4 in /home/michael/.local/lib/python3.7/site-packages (from google-auth<2.0dev,>=1.11.0->google-cloud-storage->smart-open>=1.8.1->gensim) (4.0)\n",
      "Requirement already satisfied, skipping upgrade: setuptools>=40.3.0 in /home/michael/.local/lib/python3.7/site-packages (from google-auth<2.0dev,>=1.11.0->google-cloud-storage->smart-open>=1.8.1->gensim) (45.1.0)\n",
      "Requirement already satisfied, skipping upgrade: pyasn1-modules>=0.2.1 in /home/michael/.local/lib/python3.7/site-packages (from google-auth<2.0dev,>=1.11.0->google-cloud-storage->smart-open>=1.8.1->gensim) (0.2.8)\n",
      "Requirement already satisfied, skipping upgrade: cachetools<5.0,>=2.0.0 in /home/michael/.local/lib/python3.7/site-packages (from google-auth<2.0dev,>=1.11.0->google-cloud-storage->smart-open>=1.8.1->gensim) (4.0.0)\n",
      "Collecting googleapis-common-protos<2.0dev,>=1.6.0\n",
      "  Downloading googleapis-common-protos-1.51.0.tar.gz (35 kB)\n",
      "Requirement already satisfied, skipping upgrade: protobuf>=3.4.0 in /home/michael/.local/lib/python3.7/site-packages (from google-api-core<2.0.0dev,>=1.16.0->google-cloud-core<2.0dev,>=1.2.0->google-cloud-storage->smart-open>=1.8.1->gensim) (3.10.0)\n",
      "Requirement already satisfied, skipping upgrade: pytz in /usr/lib/python3/dist-packages (from google-api-core<2.0.0dev,>=1.16.0->google-cloud-core<2.0dev,>=1.2.0->google-cloud-storage->smart-open>=1.8.1->gensim) (2019.1)\n",
      "Requirement already satisfied, skipping upgrade: pyasn1>=0.1.3 in /home/michael/.local/lib/python3.7/site-packages (from rsa<4.1,>=3.1.4->google-auth<2.0dev,>=1.11.0->google-cloud-storage->smart-open>=1.8.1->gensim) (0.4.8)\n",
      "Building wheels for collected packages: smart-open, googleapis-common-protos\n",
      "  Building wheel for smart-open (setup.py) ... \u001b[?25ldone\n",
      "\u001b[?25h  Created wheel for smart-open: filename=smart_open-1.10.0-py3-none-any.whl size=90632 sha256=99ebf569e94197d9763921bf41d2ed7a8d89191458ec46d8836db0c5c124f6aa\n",
      "  Stored in directory: /home/michael/.cache/pip/wheels/1f/e5/fc/7412935a7184efc8ad377e948c81b1cc99b6a02eb8dc7c918c\n",
      "  Building wheel for googleapis-common-protos (setup.py) ... \u001b[?25ldone\n",
      "\u001b[?25h  Created wheel for googleapis-common-protos: filename=googleapis_common_protos-1.51.0-py3-none-any.whl size=77593 sha256=d09d37afc6a3299f660d69c15a05245bbbc42ed5a8e2f29004633c458147aeae\n",
      "  Stored in directory: /home/michael/.cache/pip/wheels/4c/a1/71/5e427276ceeff277fd76878d1b19fbf4587a2845015d86864b\n",
      "Successfully built smart-open googleapis-common-protos\n",
      "Installing collected packages: jmespath, botocore, s3transfer, boto3, google-resumable-media, googleapis-common-protos, google-auth, google-api-core, google-cloud-core, google-cloud-storage, smart-open, gensim\n",
      "  Attempting uninstall: google-auth\n",
      "    Found existing installation: google-auth 1.10.1\n",
      "    Uninstalling google-auth-1.10.1:\n",
      "      Successfully uninstalled google-auth-1.10.1\n",
      "Successfully installed boto3-1.12.31 botocore-1.15.31 gensim-3.8.1 google-api-core-1.16.0 google-auth-1.12.0 google-cloud-core-1.3.0 google-cloud-storage-1.26.0 google-resumable-media-0.5.0 googleapis-common-protos-1.51.0 jmespath-0.9.5 s3transfer-0.3.3 smart-open-1.10.0\n"
     ]
    }
   ],
   "source": [
    "# install gensim\n",
    "!pip install -U gensim"
   ]
  },
  {
   "cell_type": "markdown",
   "metadata": {},
   "source": [
    "#### 3. Develop Word2Vec Embeddings."
   ]
  },
  {
   "cell_type": "markdown",
   "metadata": {},
   "source": [
    "There are 2 Word2Vec algorithms namely the Continuous Bag-of-Words and the Skip-Gram, both of which require a lot of text. \n",
    "\n",
    "Learning a word embedding using the Word2Vec class in Gensim involves loading and organizing the text into sentences and providing them to the constructor of a new Word2Vec() instance.\n",
    "\n",
    "Specifically, each sentence must be tokenized, meaning divided into words and prepared (e.g. perhaps pre-filtered and perhaps converted to a preferred case). \n",
    "\n",
    "The sentences could be text loaded into memory, or an iterator that progressively loads text, required for very large text corpora. There are quite a number of parameters in this constructor, some we may wish to configure are:\n",
    "    \n",
    "    1. size: (default 100) The number of dimensions in the embedding, eg. the length of the dense vector to represent each token.\n",
    "        \n",
    "    2. window: (default 5) The maximum distance between a target word and words around the target word.\n",
    "        \n",
    "    3. min_count: (default 5) The minimum count of words to consider when training the model: words with an occurence less than this count will be ignored.\n",
    "            \n",
    "    4. workers: (default 3) The number of threads to use while training.\n",
    "        \n",
    "    5. sg: (default 0 or CBOW) The training algorithm, either CBOW (0) or skip gram (1).\n",
    "    \n",
    "Let's take a small worked example."
   ]
  },
  {
   "cell_type": "code",
   "execution_count": 2,
   "metadata": {},
   "outputs": [],
   "source": [
    "# Load modules\n",
    "from gensim.models import Word2Vec\n",
    "from gensim.test.utils import get_tmpfile"
   ]
  },
  {
   "cell_type": "code",
   "execution_count": 41,
   "metadata": {},
   "outputs": [
    {
     "name": "stdout",
     "output_type": "stream",
     "text": [
      "Word2Vec(vocab=14, size=100, alpha=0.025)\n"
     ]
    }
   ],
   "source": [
    "# define training data\n",
    "sentences = [['this', 'is', 'the', 'first', 'sentence', 'for', 'word2vec'], \n",
    "             ['this', 'is', 'the', 'second', 'sentence'],\n",
    "             ['yet', 'another', 'sentence'], \n",
    "             ['one' ,'more', 'sentence'], \n",
    "             ['and', 'the', 'final', 'sentence']]\n",
    "\n",
    "# train a model\n",
    "path = get_tmpfile(\"Models/word2vec.model\")\n",
    "model = Word2Vec(sentences, min_count=1)\n",
    "# summarize the loaded model\n",
    "print(model)"
   ]
  },
  {
   "cell_type": "code",
   "execution_count": 42,
   "metadata": {},
   "outputs": [
    {
     "name": "stdout",
     "output_type": "stream",
     "text": [
      "['this', 'is', 'the', 'first', 'sentence', 'for', 'word2vec', 'second', 'yet', 'another', 'one', 'more', 'and', 'final']\n"
     ]
    }
   ],
   "source": [
    "# Summarize the vocabulary\n",
    "words = list(model.wv.vocab)\n",
    "print(words)"
   ]
  },
  {
   "cell_type": "code",
   "execution_count": 43,
   "metadata": {},
   "outputs": [
    {
     "name": "stdout",
     "output_type": "stream",
     "text": [
      "[ 2.4445585e-03 -4.0116808e-03  9.8356616e-04 -1.1523644e-03\n",
      "  4.5054639e-03  2.4449022e-03 -2.3396038e-03 -4.1663307e-03\n",
      "  2.9676219e-03  2.4469018e-03 -2.0692858e-03  4.3152613e-03\n",
      "  3.7573215e-03  3.9155057e-05  6.9033972e-04 -1.5007168e-03\n",
      "  3.2499444e-03 -1.2384851e-03 -4.0207501e-03  2.8744114e-03\n",
      "  9.7144727e-04  3.7244020e-03  8.9405745e-04 -1.7689941e-03\n",
      " -8.7716896e-04  3.7607455e-03 -1.6332819e-03 -1.4383604e-03\n",
      " -4.4988231e-03  8.0528739e-04 -3.9712316e-03  4.6293773e-03\n",
      " -1.3304424e-03  1.4792872e-03  1.2532071e-03  2.0937026e-03\n",
      "  5.6169560e-04  3.1592953e-03  3.0715705e-03  3.7911534e-03\n",
      "  2.7528792e-03 -4.7004339e-03 -1.5779417e-03 -2.8022309e-03\n",
      "  4.0371749e-03 -1.0465648e-03 -1.0306865e-03 -4.4579511e-03\n",
      " -6.7581254e-04 -3.4397810e-03  2.3266107e-03 -1.9121204e-03\n",
      " -3.1571425e-04 -6.9215597e-04 -6.5398926e-04  4.0930277e-03\n",
      "  3.6619427e-03 -1.4072107e-03 -2.0808559e-03 -1.4185984e-04\n",
      "  2.2093847e-03 -1.9525071e-03 -2.7522151e-03  2.6156625e-03\n",
      "  3.3582798e-03 -1.2245205e-03 -3.7520952e-03  7.6585612e-04\n",
      "  8.5232122e-04 -4.6780221e-03  1.8195087e-03 -2.2692482e-03\n",
      " -6.2724436e-04 -4.5126774e-03  2.8510175e-03 -4.0786713e-03\n",
      " -3.0988685e-03  4.7600344e-03 -4.0241363e-03  4.1752504e-03\n",
      "  1.3118284e-03  4.8092483e-03  4.0938007e-03 -4.7797542e-03\n",
      "  4.4039357e-03  2.8796685e-03 -7.9250499e-04 -1.0354887e-03\n",
      "  2.0449399e-03 -4.0243412e-03 -2.6729738e-03  4.9696597e-03\n",
      "  9.8226022e-04  4.4495054e-03 -8.5421896e-04  1.4549462e-03\n",
      "  4.0244483e-03 -2.8541901e-03 -1.5987548e-03 -9.2375471e-04]\n"
     ]
    }
   ],
   "source": [
    "# Access the vector for one word\n",
    "print(model.wv['sentence'])"
   ]
  },
  {
   "cell_type": "code",
   "execution_count": 44,
   "metadata": {},
   "outputs": [],
   "source": [
    "# Save the model\n",
    "model.save(\"Models/word2vec.model\") # or we could save to 'model_wv.bin' then remove binary=False"
   ]
  },
  {
   "cell_type": "code",
   "execution_count": 68,
   "metadata": {},
   "outputs": [
    {
     "name": "stdout",
     "output_type": "stream",
     "text": [
      "Word2Vec(vocab=14, size=100, alpha=0.025)\n"
     ]
    }
   ],
   "source": [
    "# Load model\n",
    "new_model = Word2Vec.load(\"Models/word2vec.model\")\n",
    "print(new_model)"
   ]
  },
  {
   "cell_type": "code",
   "execution_count": null,
   "metadata": {},
   "outputs": [],
   "source": [
    "# Train a previous word embedding model on a new sentence.\n",
    "new_model.train([[\"hello\", \"world\"]], total_examples=1, epochs=1)"
   ]
  },
  {
   "cell_type": "markdown",
   "metadata": {},
   "source": [
    "#### 4. Visualize Word Embeddings."
   ]
  },
  {
   "cell_type": "markdown",
   "metadata": {},
   "source": [
    "After learning word embeddings for your data, it can be nice to explore it with visualizations. You can use classical projection methods to reduce the high-dimensional vectors to two dimensional plots and plot them on a graph. The visualizations can provide a qualitative diagnostic for your learned model.\n",
    "\n",
    "Let's retrieve all the vectors from a trained model:"
   ]
  },
  {
   "cell_type": "code",
   "execution_count": 37,
   "metadata": {},
   "outputs": [],
   "source": [
    "# Load modules\n",
    "from sklearn.decomposition import PCA\n",
    "from matplotlib import pyplot"
   ]
  },
  {
   "cell_type": "code",
   "execution_count": 69,
   "metadata": {},
   "outputs": [],
   "source": [
    "# Fit a 2d PCA model to the vectors\n",
    "X = new_model.wv[new_model.wv.vocab]\n",
    "pca = PCA(n_components=2)\n",
    "result = pca.fit_transform(X)"
   ]
  },
  {
   "cell_type": "code",
   "execution_count": 72,
   "metadata": {},
   "outputs": [
    {
     "data": {
      "text/plain": [
       "(14, 2)"
      ]
     },
     "execution_count": 72,
     "metadata": {},
     "output_type": "execute_result"
    }
   ],
   "source": [
    "result.shape"
   ]
  },
  {
   "cell_type": "code",
   "execution_count": 40,
   "metadata": {},
   "outputs": [
    {
     "data": {
      "image/png": "[encoded data removed]",
      "text/plain": [
       "<Figure size 432x288 with 1 Axes>"
      ]
     },
     "metadata": {
      "needs_background": "light"
     },
     "output_type": "display_data"
    }
   ],
   "source": [
    "# Create a scatter plot of the pojection \n",
    "pyplot.scatter(result[:, 0], result[:, 1])\n",
    "words = list(model.wv.vocab)\n",
    "for i, word in enumerate(words):\n",
    "    pyplot.annotate(word, xy=(result[i, 0], result[i, 1]))\n",
    "pyplot.show()"
   ]
  },
  {
   "cell_type": "markdown",
   "metadata": {},
   "source": [
    "TO DO:\n",
    "    \n",
    "    Try on Truncated SVD and T-SNE instead of PCA"
   ]
  },
  {
   "cell_type": "code",
   "execution_count": 70,
   "metadata": {},
   "outputs": [],
   "source": [
    "from sklearn.manifold import TSNE\n",
    "X_embedded = TSNE(n_components=2).fit_transform(X)"
   ]
  },
  {
   "cell_type": "code",
   "execution_count": 71,
   "metadata": {},
   "outputs": [
    {
     "data": {
      "text/plain": [
       "(14, 2)"
      ]
     },
     "execution_count": 71,
     "metadata": {},
     "output_type": "execute_result"
    }
   ],
   "source": [
    "X_embedded.shape"
   ]
  },
  {
   "cell_type": "code",
   "execution_count": 74,
   "metadata": {},
   "outputs": [
    {
     "name": "stdout",
     "output_type": "stream",
     "text": [
      "0 the\n"
     ]
    }
   ],
   "source": [
    "for i, word in enumerate(words):\n",
    "    print(i, word)\n",
    "    break"
   ]
  },
  {
   "cell_type": "code",
   "execution_count": 75,
   "metadata": {},
   "outputs": [
    {
     "ename": "IndexError",
     "evalue": "index 14 is out of bounds for axis 0 with size 14",
     "output_type": "error",
     "traceback": [
      "\u001b[0;31m---------------------------------------------------------------------------\u001b[0m",
      "\u001b[0;31mIndexError\u001b[0m                                Traceback (most recent call last)",
      "\u001b[0;32m<ipython-input-75-e8281c63804d>\u001b[0m in \u001b[0;36m<module>\u001b[0;34m()\u001b[0m\n\u001b[1;32m      3\u001b[0m \u001b[0;31m#words = list(model.wv.vocab)\u001b[0m\u001b[0;34m\u001b[0m\u001b[0;34m\u001b[0m\u001b[0;34m\u001b[0m\u001b[0m\n\u001b[1;32m      4\u001b[0m \u001b[0;32mfor\u001b[0m \u001b[0mi\u001b[0m\u001b[0;34m,\u001b[0m \u001b[0mword\u001b[0m \u001b[0;32min\u001b[0m \u001b[0menumerate\u001b[0m\u001b[0;34m(\u001b[0m\u001b[0mwords\u001b[0m\u001b[0;34m)\u001b[0m\u001b[0;34m:\u001b[0m\u001b[0;34m\u001b[0m\u001b[0;34m\u001b[0m\u001b[0m\n\u001b[0;32m----> 5\u001b[0;31m     \u001b[0mpyplot\u001b[0m\u001b[0;34m.\u001b[0m\u001b[0mannotate\u001b[0m\u001b[0;34m(\u001b[0m\u001b[0mword\u001b[0m\u001b[0;34m,\u001b[0m \u001b[0mxy\u001b[0m\u001b[0;34m=\u001b[0m\u001b[0;34m(\u001b[0m\u001b[0mX_embedded\u001b[0m\u001b[0;34m[\u001b[0m\u001b[0mi\u001b[0m\u001b[0;34m,\u001b[0m \u001b[0;36m0\u001b[0m\u001b[0;34m]\u001b[0m\u001b[0;34m,\u001b[0m \u001b[0mX_embedded\u001b[0m\u001b[0;34m[\u001b[0m\u001b[0mi\u001b[0m\u001b[0;34m,\u001b[0m \u001b[0;36m1\u001b[0m\u001b[0;34m]\u001b[0m\u001b[0;34m)\u001b[0m\u001b[0;34m)\u001b[0m\u001b[0;34m\u001b[0m\u001b[0;34m\u001b[0m\u001b[0m\n\u001b[0m\u001b[1;32m      6\u001b[0m \u001b[0mpyplot\u001b[0m\u001b[0;34m.\u001b[0m\u001b[0mshow\u001b[0m\u001b[0;34m(\u001b[0m\u001b[0;34m)\u001b[0m\u001b[0;34m\u001b[0m\u001b[0;34m\u001b[0m\u001b[0m\n",
      "\u001b[0;31mIndexError\u001b[0m: index 14 is out of bounds for axis 0 with size 14"
     ]
    },
    {
     "data": {
      "image/png": "[encoded data removed]",
      "text/plain": [
       "<Figure size 432x288 with 1 Axes>"
      ]
     },
     "metadata": {
      "needs_background": "light"
     },
     "output_type": "display_data"
    }
   ],
   "source": [
    "# Create a scatter plot of the pojection \n",
    "pyplot.scatter(X_embedded[:, 0], X_embedded[:, 1])\n",
    "#words = list(model.wv.vocab)\n",
    "for i, word in enumerate(words):\n",
    "    pyplot.annotate(word, xy=(X_embedded[i, 0], X_embedded[i, 1]))\n",
    "pyplot.show()"
   ]
  },
  {
   "cell_type": "code",
   "execution_count": 76,
   "metadata": {},
   "outputs": [],
   "source": [
    "from sklearn.decomposition import TruncatedSVD\n",
    "svd = TruncatedSVD(n_components=2, n_iter=7, random_state=42)\n",
    "res = svd.fit_transform(X)"
   ]
  },
  {
   "cell_type": "code",
   "execution_count": 77,
   "metadata": {},
   "outputs": [
    {
     "ename": "IndexError",
     "evalue": "index 14 is out of bounds for axis 0 with size 14",
     "output_type": "error",
     "traceback": [
      "\u001b[0;31m---------------------------------------------------------------------------\u001b[0m",
      "\u001b[0;31mIndexError\u001b[0m                                Traceback (most recent call last)",
      "\u001b[0;32m<ipython-input-77-089ac40ef759>\u001b[0m in \u001b[0;36m<module>\u001b[0;34m()\u001b[0m\n\u001b[1;32m      3\u001b[0m \u001b[0;31m#words = list(model.wv.vocab)\u001b[0m\u001b[0;34m\u001b[0m\u001b[0;34m\u001b[0m\u001b[0;34m\u001b[0m\u001b[0m\n\u001b[1;32m      4\u001b[0m \u001b[0;32mfor\u001b[0m \u001b[0mi\u001b[0m\u001b[0;34m,\u001b[0m \u001b[0mword\u001b[0m \u001b[0;32min\u001b[0m \u001b[0menumerate\u001b[0m\u001b[0;34m(\u001b[0m\u001b[0mwords\u001b[0m\u001b[0;34m)\u001b[0m\u001b[0;34m:\u001b[0m\u001b[0;34m\u001b[0m\u001b[0;34m\u001b[0m\u001b[0m\n\u001b[0;32m----> 5\u001b[0;31m     \u001b[0mpyplot\u001b[0m\u001b[0;34m.\u001b[0m\u001b[0mannotate\u001b[0m\u001b[0;34m(\u001b[0m\u001b[0mword\u001b[0m\u001b[0;34m,\u001b[0m \u001b[0mxy\u001b[0m\u001b[0;34m=\u001b[0m\u001b[0;34m(\u001b[0m\u001b[0mres\u001b[0m\u001b[0;34m[\u001b[0m\u001b[0mi\u001b[0m\u001b[0;34m,\u001b[0m \u001b[0;36m0\u001b[0m\u001b[0;34m]\u001b[0m\u001b[0;34m,\u001b[0m \u001b[0mres\u001b[0m\u001b[0;34m[\u001b[0m\u001b[0mi\u001b[0m\u001b[0;34m,\u001b[0m \u001b[0;36m1\u001b[0m\u001b[0;34m]\u001b[0m\u001b[0;34m)\u001b[0m\u001b[0;34m)\u001b[0m\u001b[0;34m\u001b[0m\u001b[0;34m\u001b[0m\u001b[0m\n\u001b[0m\u001b[1;32m      6\u001b[0m \u001b[0mpyplot\u001b[0m\u001b[0;34m.\u001b[0m\u001b[0mshow\u001b[0m\u001b[0;34m(\u001b[0m\u001b[0;34m)\u001b[0m\u001b[0;34m\u001b[0m\u001b[0;34m\u001b[0m\u001b[0m\n",
      "\u001b[0;31mIndexError\u001b[0m: index 14 is out of bounds for axis 0 with size 14"
     ]
    },
    {
     "data": {
      "image/png": "[encoded data removed]",
      "text/plain": [
       "<Figure size 432x288 with 1 Axes>"
      ]
     },
     "metadata": {
      "needs_background": "light"
     },
     "output_type": "display_data"
    }
   ],
   "source": [
    "# Create a scatter plot of the pojection \n",
    "pyplot.scatter(res[:, 0], res[:, 1])\n",
    "#words = list(model.wv.vocab)\n",
    "for i, word in enumerate(words):\n",
    "    pyplot.annotate(word, xy=(res[i, 0], res[i, 1]))\n",
    "pyplot.show()"
   ]
  },
  {
   "cell_type": "code",
   "execution_count": null,
   "metadata": {},
   "outputs": [],
   "source": [
    "Turns out TSNE and Truncated SVD dont work as well as PCA for data like this."
   ]
  },
  {
   "cell_type": "markdown",
   "metadata": {},
   "source": [
    "#### 5. Load Google's Word2Vec Embedding."
   ]
  },
  {
   "cell_type": "markdown",
   "metadata": {},
   "source": [
    "Training your own word vectors may be the best approach for a given NLP problem. But it can take a long time, a fast computer with a lot of RAM and disk space, and perhaps some expertise in finessing the input data and training algorithm. An alternative is to simply use an existing pre-trained word embedding.\n",
    "\n",
    "A pre-trained model is nothing more tha a file containing tokens and their associated word vectors.\n",
    "The pre-trained Google Word2Vec model was trained on Google news data (about 100 billion words); it contains 3 million words and phrases and was fit using 300-dimensional word vectors."
   ]
  },
  {
   "cell_type": "code",
   "execution_count": 46,
   "metadata": {},
   "outputs": [
    {
     "name": "stdout",
     "output_type": "stream",
     "text": [
      "--2020-03-29 16:08:27--  https://drive.google.com/file/d/0B7XkCwpI5KDYNlNUTTlSS21pQmM/edit?usp=sharing\n",
      "Resolving drive.google.com (drive.google.com)... 216.58.223.78, 2a00:1450:401a:804::200e\n",
      "Connecting to drive.google.com (drive.google.com)|216.58.223.78|:443... connected.\n",
      "HTTP request sent, awaiting response... 200 OK\n",
      "Length: unspecified [text/html]\n",
      "Saving to: ‘Models/GoogleNews_vectors_negative300.bin.gz’\n",
      "\n",
      "Models/GoogleNews_v     [ <=>                ]  67.26K  --.-KB/s    in 0.1s    \n",
      "\n",
      "2020-03-29 16:08:29 (474 KB/s) - ‘Models/GoogleNews_vectors_negative300.bin.gz’ saved [68879]\n",
      "\n"
     ]
    }
   ],
   "source": [
    "# Download the embeddings \n",
    "!wget -O Models/GoogleNews_vectors_negative300.bin.gz https://drive.google.com/file/d/0B7XkCwpI5KDYNlNUTTlSS21pQmM/edit?usp=sharing"
   ]
  },
  {
   "cell_type": "code",
   "execution_count": 49,
   "metadata": {},
   "outputs": [
    {
     "name": "stdout",
     "output_type": "stream",
     "text": [
      "GoogleNews-vectors-negative300.bin  model_wv.bin  model_wv.txt\tword2vec.model\r\n"
     ]
    }
   ],
   "source": [
    "!ls Models"
   ]
  },
  {
   "cell_type": "code",
   "execution_count": 48,
   "metadata": {},
   "outputs": [],
   "source": [
    "# unzip the file downloaded. Alternatively use the gensim loader to download the file\n",
    "!gunzip Models/GoogleNews-vectors-negative300.bin.gz\n",
    "\n",
    "\n",
    "# def load_word2vec():\n",
    "#     \"\"\" Load Word2Vec Vectors\n",
    "#         Return:\n",
    "#             wv_from_bin: All 3 million embeddings, each lengh 300\n",
    "#     \"\"\"\n",
    "#     import gensim.downloader as api\n",
    "#     wv_from_bin = api.load(\"word2vec-google-news-300\")\n",
    "#     vocab = list(wv_from_bin.vocab.keys())\n",
    "#     print(\"Loaded vocab size %i\" % len(vocab))\n",
    "#     return wv_from_bin"
   ]
  },
  {
   "cell_type": "code",
   "execution_count": 50,
   "metadata": {},
   "outputs": [],
   "source": [
    "# Load gensim keyed vectors to take the binary vectors file.\n",
    "from gensim.models import KeyedVectors"
   ]
  },
  {
   "cell_type": "code",
   "execution_count": 51,
   "metadata": {},
   "outputs": [],
   "source": [
    "# Load the google model\n",
    "filename = 'Models/GoogleNews-vectors-negative300.bin'\n",
    "model = KeyedVectors.load_word2vec_format(filename, binary=True)"
   ]
  },
  {
   "cell_type": "markdown",
   "metadata": {},
   "source": [
    "We can try some tests to see our how our model works with predicting most similar words given a word."
   ]
  },
  {
   "cell_type": "code",
   "execution_count": 52,
   "metadata": {},
   "outputs": [
    {
     "name": "stdout",
     "output_type": "stream",
     "text": [
      "[('queen', 0.711819589138031)]\n"
     ]
    }
   ],
   "source": [
    "# Calculate: (king - man) + woman = ?\n",
    "result = model.most_similar(positive=['woman', 'king'], negative=['man'], topn=1)\n",
    "print(result)"
   ]
  },
  {
   "cell_type": "markdown",
   "metadata": {},
   "source": [
    "This is how we'd load and use the google word embedding. for our various problems. Now let's extract the loaded embedding from memory since we'll have to load on the next embedding. If we were working from the cloud vm instance, we may not need to pull it."
   ]
  },
  {
   "cell_type": "code",
   "execution_count": 53,
   "metadata": {},
   "outputs": [],
   "source": [
    "# Drop the model from ram.\n",
    "del model"
   ]
  },
  {
   "cell_type": "markdown",
   "metadata": {},
   "source": [
    "#### 6. Load Stanford's GloVe Embedding."
   ]
  },
  {
   "cell_type": "markdown",
   "metadata": {},
   "source": [
    "NLP Practitioners prefer GloVe at the moment based on results. It is also a pre-trained word vector. \n",
    "\n",
    "We can download the GloVe pretrained word vectors and load them easily with Gensim. The first step convert the GloVe file format to the Word2Vec file format.\n",
    "\n",
    "The only difference is the addition of a small header line. This can be done by calling the glove2word2vec() function."
   ]
  },
  {
   "cell_type": "markdown",
   "metadata": {},
   "source": [
    "The smallest GloVe pre-trained model is an 822 Mb zip file with 4 different models (50, 100, 200 and 300-dimensional vectors) trained on data with 6 billion tokens and a 400,000 word vocabulary."
   ]
  },
  {
   "cell_type": "code",
   "execution_count": 54,
   "metadata": {},
   "outputs": [],
   "source": [
    "# Import module\n",
    "from gensim.scripts.glove2word2vec import glove2word2vec"
   ]
  },
  {
   "cell_type": "code",
   "execution_count": 55,
   "metadata": {},
   "outputs": [
    {
     "name": "stdout",
     "output_type": "stream",
     "text": [
      "--2020-03-30 04:03:41--  http://nlp.stanford.edu/data/glove.6B.zip\n",
      "Resolving nlp.stanford.edu (nlp.stanford.edu)... 171.64.67.140\n",
      "Connecting to nlp.stanford.edu (nlp.stanford.edu)|171.64.67.140|:80... connected.\n",
      "HTTP request sent, awaiting response... 302 Found\n",
      "Location: https://nlp.stanford.edu/data/glove.6B.zip [following]\n",
      "--2020-03-30 04:03:43--  https://nlp.stanford.edu/data/glove.6B.zip\n",
      "Connecting to nlp.stanford.edu (nlp.stanford.edu)|171.64.67.140|:443... connected.\n",
      "HTTP request sent, awaiting response... 301 Moved Permanently\n",
      "Location: http://downloads.cs.stanford.edu/nlp/data/glove.6B.zip [following]\n",
      "--2020-03-30 04:03:44--  http://downloads.cs.stanford.edu/nlp/data/glove.6B.zip\n",
      "Resolving downloads.cs.stanford.edu (downloads.cs.stanford.edu)... 171.64.64.22\n",
      "Connecting to downloads.cs.stanford.edu (downloads.cs.stanford.edu)|171.64.64.22|:80... connected.\n",
      "HTTP request sent, awaiting response... 200 OK\n",
      "Length: 862182613 (822M) [application/zip]\n",
      "Saving to: ‘Models/glove.6B.zip’\n",
      "\n",
      "Models/glove.6B.zip 100%[===================>] 822.24M  1.22MB/s    in 53m 39s \n",
      "\n",
      "2020-03-30 04:57:25 (262 KB/s) - ‘Models/glove.6B.zip’ saved [862182613/862182613]\n",
      "\n"
     ]
    }
   ],
   "source": [
    "# Download the embedding\n",
    "!wget -O Models/glove.6B.zip http://downloads.cs.stanford.edu/nlp/data/glove.6B.zip"
   ]
  },
  {
   "cell_type": "code",
   "execution_count": 56,
   "metadata": {},
   "outputs": [
    {
     "name": "stdout",
     "output_type": "stream",
     "text": [
      "Archive:  Models/glove.6B.zip\n",
      "  inflating: glove.6B.50d.txt        \n",
      "  inflating: glove.6B.100d.txt       \n",
      "  inflating: glove.6B.200d.txt       \n",
      "  inflating: glove.6B.300d.txt       \n"
     ]
    }
   ],
   "source": [
    "# Unzip the donwloaded files.\n",
    "!unzip Models/glove.6B.zip"
   ]
  },
  {
   "cell_type": "code",
   "execution_count": 60,
   "metadata": {},
   "outputs": [
    {
     "name": "stdout",
     "output_type": "stream",
     "text": [
      "'1. Deep Learning NLP.ipynb'\t\t\t  main.py\r\n",
      "'2. NLP Data Preparation.ipynb'\t\t\t  Model_Imgaes\r\n",
      "'3. Bag-of-Words Model Keras.ipynb'\t\t  model.png\r\n",
      "'4. Sentiment Analysis Data Preparation..ipynb'   Models\r\n",
      "'5. Neural BOW Model for Sentiments..ipynb'\t 'NLP Quiz'\r\n",
      "'6. Word Embeddings.ipynb'\t\t\t  poldata.README.2.0\r\n",
      "'7. Developing Word Embedding.ipynb'\t\t  __pycache__\r\n",
      " Data\t\t\t\t\t\t  requirements.txt\r\n",
      " glove.6B.100d.txt\t\t\t\t  save_processed.py\r\n",
      " glove.6B.200d.txt\t\t\t\t  sent_model1.png\r\n",
      " glove.6B.300d.txt\t\t\t\t  text_prep.py\r\n",
      " glove.6B.50d.txt\t\t\t\t  Weights\r\n"
     ]
    }
   ],
   "source": [
    "!ls "
   ]
  },
  {
   "cell_type": "code",
   "execution_count": 61,
   "metadata": {},
   "outputs": [],
   "source": [
    "import os"
   ]
  },
  {
   "cell_type": "code",
   "execution_count": 64,
   "metadata": {},
   "outputs": [
    {
     "data": {
      "text/plain": [
       "(400000, 100)"
      ]
     },
     "execution_count": 64,
     "metadata": {},
     "output_type": "execute_result"
    }
   ],
   "source": [
    "# Let's use the 100d model\n",
    "glove_input_file = 'Models/glove.6B.100d.txt'\n",
    "word2vec_output_file = 'Models/glove.6B.100d.txt.word2vec'\n",
    "glove2word2vec(glove_input_file, word2vec_output_file)"
   ]
  },
  {
   "cell_type": "markdown",
   "metadata": {},
   "source": [
    "Now we have a copy of the GloVe model in Word2Vec format with the filename glove.6B.100d.txt.word2vec. now we can load it and perform the same test we performed on the word2vec model above.\n",
    "\n",
    "**Note** The converted file is ASCII format, not binary, so we set binary=False when loading."
   ]
  },
  {
   "cell_type": "code",
   "execution_count": 65,
   "metadata": {},
   "outputs": [
    {
     "name": "stdout",
     "output_type": "stream",
     "text": [
      "[('queen', 0.7698541283607483)]\n"
     ]
    }
   ],
   "source": [
    "# Load modules\n",
    "from gensim.models import KeyedVectors\n",
    "# load the stanford GloVe model\n",
    "filename = 'Models/glove.6B.100d.txt.word2vec'\n",
    "model = KeyedVectors.load_word2vec_format(filename, binary = False)\n",
    "# Calculate: (king - man) + woman = ?\n",
    "result = model.most_similar(positive=['woman', 'king'], negative=['man'], topn=1)\n",
    "print(result)"
   ]
  },
  {
   "cell_type": "markdown",
   "metadata": {},
   "source": [
    "## How to Learn and Load Word Embeddings in Keras"
   ]
  },
  {
   "cell_type": "markdown",
   "metadata": {},
   "source": [
    "Word embeddings provide a dense representation of words and their relative meanings. They are an improvement over sparse representations used in simpler BOW model representations.\n",
    "\n",
    "They can be learned from text data and reused among other projects. They can also be learned as part of fitting a neural network on text data."
   ]
  },
  {
   "cell_type": "markdown",
   "metadata": {},
   "source": [
    "#### 1. Word Embedding"
   ]
  },
  {
   "cell_type": "markdown",
   "metadata": {},
   "source": [
    "This is a class of approaches for representing words and documents using a dense vector representation. It is an improvement over more the traditional BOW model encoding schemes where large sparse vectors were used to represent each word or to score eac word within a vector to represent an entire vocabulary.\n",
    "\n",
    "We will get sparse representations because the vocabularies were vast and a given word or document would be represented by a large vector comprised mostly of zero values.\n",
    "\n",
    "In an embedding, words are represented by dense vectors where a vector represents the projection of the word into a continuous vector space. The position of a word within the vector space is learned from text and is based on the words that surround the word when it is used. The position of a word in a learned vector space is known as it's embedding. Two popular examples of methods of learning word embeddings from text we have seen above include:\n",
    "\n",
    "    1. Word2Vec\n",
    "    2. GloVe.\n",
    "    \n",
    "In addition to these methods, a word embedding can be learned as part of a deep learning model. This can be a slower approach, but tailors the model to a specific training dataset."
   ]
  },
  {
   "cell_type": "markdown",
   "metadata": {},
   "source": [
    "#### 2. Keras Embedding Layer"
   ]
  },
  {
   "cell_type": "markdown",
   "metadata": {},
   "source": [
    "The keras embedding layer requires that the input data be integer encoded, so that each word is represented by a unique integer. This data preparation step can be performed using the Tokenizer API.\n",
    "\n",
    "The embedding layer is initialized with random weights and will learn an embedding for all of the words in the training set.\n",
    "\n",
    "It's also quite flexible and can be used in a variety of ways, such as:\n",
    "    \n",
    "    1. It can be used alone to learn a word embedding that can be saved and used in another model later.\n",
    "    2. It can be used as part of a deep learning model where the embedding is learned along with the model itself.\n",
    "    3. It can be used to load a pre-trained word embedding model, a type of transfer learning.\n",
    "    \n",
    "    The embedding layer is defined as the first hidden layer of a network, with the following arguments as compulsory:\n",
    "        \n",
    "    1. input_dim. This is the size of the vocabulary in the text data. For example, if your data is integer encoded to values between 0-10, then the size of the vocab would be 11 words.\n",
    "    2. output_dim. This is the size of the vector space in which words will be embedded. it defines the size of the output vectors from this layer for each word. For example, it could be 32, 100, or even larger.\n",
    "    3. Input length. This is the length of input sequences, as you would define for any input layer of a keras model.\n",
    "    \n",
    "**Note:** The Embedding layer has weights that are learned if you save your model to file, this will include weights for the Embedding layer. Saving your model to file means this will include weights for the embedding layer. \n",
    "    \n",
    "    \n",
    "    The output of the embedding layer is a 2D vector with one embedding for each word in the input sequence of words (input document). If you wish to connect a dense layer directly to the embedding layer, you must first flatten the 2D output matrix to a 1D vector using the Flatten layer."
   ]
  },
  {
   "cell_type": "code",
   "execution_count": null,
   "metadata": {},
   "outputs": [],
   "source": []
  },
  {
   "cell_type": "code",
   "execution_count": null,
   "metadata": {},
   "outputs": [],
   "source": []
  },
  {
   "cell_type": "markdown",
   "metadata": {},
   "source": [
    "#### 3. Example of Learning an Embedding"
   ]
  },
  {
   "cell_type": "code",
   "execution_count": 79,
   "metadata": {},
   "outputs": [],
   "source": [
    "# Lets define a simple sentiment analysis problem and see how we can scale up to much larger problems.\n",
    "#Define documents\n",
    "docs = ['Well done!', \n",
    "        'Good work', \n",
    "        'Great effort', \n",
    "        'Nice work', \n",
    "        'Excellent!', \n",
    "        'Weak', \n",
    "        'Poor effort!',\n",
    "        'not good', \n",
    "        'poor work',\n",
    "        'could have done better.']\n",
    "# Define class labels\n",
    "labels = [1,1,1,1,1,0,0,0,0,0]"
   ]
  },
  {
   "cell_type": "markdown",
   "metadata": {},
   "source": [
    "Next we integer encode each document (one_hot). This means that as input, the embedding layer will have some sequences of integers. Note, we can experiment with other more sophisticated BOW model encoding like counts or TF-IDF.\n",
    "\n",
    "We will estimate the vocabulary of 50 , which is much larger than needed to reduce the probability of collisions from the hash function.\n",
    "\n",
    "Finally, the sequences have different lengths and keras preferes inputs to be vectorized and all inputs to have the same length. We will pad all input sequences to have the length  of 4.\n",
    "\n",
    "Then we define, compile and fit our model keeping the embedding layer at the formost after the input."
   ]
  },
  {
   "cell_type": "code",
   "execution_count": 80,
   "metadata": {},
   "outputs": [],
   "source": [
    "# Import modules\n",
    "from keras.preprocessing.text import one_hot\n",
    "from keras.preprocessing.sequence import pad_sequences\n",
    "from keras.models import Model\n",
    "from keras.layers import Input, Dense, Flatten\n",
    "from keras.layers.embeddings import Embedding"
   ]
  },
  {
   "cell_type": "code",
   "execution_count": 87,
   "metadata": {},
   "outputs": [
    {
     "data": {
      "text/plain": [
       "18"
      ]
     },
     "execution_count": 87,
     "metadata": {},
     "output_type": "execute_result"
    }
   ],
   "source": [
    "h = [i.split() for i in docs]\n",
    "k = [j for i in h for j in i]\n",
    "len(set(k)) # Vocab size should be this length."
   ]
  },
  {
   "cell_type": "code",
   "execution_count": 88,
   "metadata": {},
   "outputs": [
    {
     "name": "stdout",
     "output_type": "stream",
     "text": [
      "[[8, 19], [39, 9], [33, 1], [33, 9], [17], [29], [26, 1], [36, 39], [26, 9], [11, 20, 19, 18]]\n"
     ]
    }
   ],
   "source": [
    "# Integer encode the documents\n",
    "vocab_size = 50 # We are choosing 50 because it is quite large and will help us avoid any hashing collisions.\n",
    "encoded_docs = [one_hot(d, vocab_size) for d in docs]\n",
    "print(encoded_docs)"
   ]
  },
  {
   "cell_type": "code",
   "execution_count": 90,
   "metadata": {},
   "outputs": [
    {
     "data": {
      "text/plain": [
       "4"
      ]
     },
     "execution_count": 90,
     "metadata": {},
     "output_type": "execute_result"
    }
   ],
   "source": [
    "# Get the max length of a sentences in the vocab.\n",
    "max_len =0\n",
    "for i in encoded_docs:\n",
    "    if len(i) > max_len:\n",
    "        max_len = len(i)\n",
    "max_len"
   ]
  },
  {
   "cell_type": "code",
   "execution_count": 94,
   "metadata": {},
   "outputs": [
    {
     "name": "stdout",
     "output_type": "stream",
     "text": [
      "[[ 8 19  0  0]\n",
      " [39  9  0  0]\n",
      " [33  1  0  0]\n",
      " [33  9  0  0]\n",
      " [17  0  0  0]\n",
      " [29  0  0  0]\n",
      " [26  1  0  0]\n",
      " [36 39  0  0]\n",
      " [26  9  0  0]\n",
      " [11 20 19 18]]\n"
     ]
    }
   ],
   "source": [
    "# Pad documents.\n",
    "padded_docs = pad_sequences(encoded_docs, maxlen=max_len, padding='post')\n",
    "print(padded_docs)"
   ]
  },
  {
   "cell_type": "code",
   "execution_count": 102,
   "metadata": {},
   "outputs": [
    {
     "name": "stdout",
     "output_type": "stream",
     "text": [
      "Model: \"model_2\"\n",
      "_________________________________________________________________\n",
      "Layer (type)                 Output Shape              Param #   \n",
      "=================================================================\n",
      "input_3 (InputLayer)         (None, 4)                 0         \n",
      "_________________________________________________________________\n",
      "embedding_2 (Embedding)      (None, 4, 8)              400       \n",
      "_________________________________________________________________\n",
      "flatten_2 (Flatten)          (None, 32)                0         \n",
      "_________________________________________________________________\n",
      "dense_2 (Dense)              (None, 1)                 33        \n",
      "=================================================================\n",
      "Total params: 433\n",
      "Trainable params: 433\n",
      "Non-trainable params: 0\n",
      "_________________________________________________________________\n"
     ]
    }
   ],
   "source": [
    "# Define a model\n",
    "def simp_model(vocab_size, max_len, padded_docs, labels):\n",
    "    visible = Input(shape=(max_len, ))\n",
    "    embed1 = Embedding(vocab_size, 8)(visible)\n",
    "    flat1 = Flatten()(embed1)\n",
    "    output = Dense(1, activation='sigmoid')(flat1)\n",
    "    model = Model(inputs = visible, outputs = output)\n",
    "    model.summary()\n",
    "    return model\n",
    "\n",
    "# Load and compile the model\n",
    "model = simp_model(vocab_size, max_len, padded_docs, labels)  \n",
    "model.compile(optimizer='adam', loss='binary_crossentropy', metrics=['accuracy'])"
   ]
  },
  {
   "cell_type": "code",
   "execution_count": 106,
   "metadata": {},
   "outputs": [
    {
     "name": "stdout",
     "output_type": "stream",
     "text": [
      "Accuracy: 100.000000\n"
     ]
    }
   ],
   "source": [
    "# fit the model\n",
    "model.fit(padded_docs, labels, epochs=50, verbose=0)\n",
    "# evaluate the model\n",
    "loss, accuracy = model.evaluate(padded_docs, labels, verbose=0)\n",
    "print('Accuracy: %f'%(accuracy*100))"
   ]
  },
  {
   "cell_type": "markdown",
   "metadata": {},
   "source": [
    "Now we can save the learned weights from the embedding layer to a file for later use in other models."
   ]
  },
  {
   "cell_type": "markdown",
   "metadata": {},
   "source": [
    "#### 4. Example of Using Pre-trained GloVe Embedding"
   ]
  },
  {
   "cell_type": "markdown",
   "metadata": {},
   "source": [
    "Now we have built an embedding for the task and seen it work for what we wanted it for. Let us attempt using a pre-trained embedding for the same problem.\n",
    "\n",
    "As seen in the previous example on loading a pre-trained embedding, we will do same here."
   ]
  },
  {
   "cell_type": "code",
   "execution_count": 108,
   "metadata": {},
   "outputs": [
    {
     "data": {
      "text/plain": [
       "(['Well done!',\n",
       "  'Good work',\n",
       "  'Great effort',\n",
       "  'Nice work',\n",
       "  'Excellent!',\n",
       "  'Weak',\n",
       "  'Poor effort!',\n",
       "  'not good',\n",
       "  'poor work',\n",
       "  'could have done better.'],\n",
       " [1, 1, 1, 1, 1, 0, 0, 0, 0, 0])"
      ]
     },
     "execution_count": 108,
     "metadata": {},
     "output_type": "execute_result"
    }
   ],
   "source": [
    "# Verify our docs and labels lists havent been altered.\n",
    "docs, labels"
   ]
  },
  {
   "cell_type": "code",
   "execution_count": 110,
   "metadata": {},
   "outputs": [
    {
     "name": "stdout",
     "output_type": "stream",
     "text": [
      "[[6, 2], [3, 1], [7, 4], [8, 1], [9], [10], [5, 4], [11, 3], [5, 1], [12, 13, 2, 14]]\n",
      "[[ 6  2  0  0]\n",
      " [ 3  1  0  0]\n",
      " [ 7  4  0  0]\n",
      " [ 8  1  0  0]\n",
      " [ 9  0  0  0]\n",
      " [10  0  0  0]\n",
      " [ 5  4  0  0]\n",
      " [11  3  0  0]\n",
      " [ 5  1  0  0]\n",
      " [12 13  2 14]]\n"
     ]
    }
   ],
   "source": [
    "# Let's run it all in one script\n",
    "from numpy import asarray, zeros\n",
    "from keras.preprocessing.text import Tokenizer\n",
    "from keras_preprocessing.sequence import pad_sequences\n",
    "from keras.models import Model\n",
    "from keras.layers import Input, Dense, Flatten, Embedding\n",
    "\n",
    "# Define documents: Already done, variable docs and labels\n",
    "\n",
    "# prepare tokenizer\n",
    "t = Tokenizer()\n",
    "t.fit_on_texts(docs)\n",
    "vocab_size = len(t.word_index) + 1 # word_index = Dictionary mapping of words\n",
    "\n",
    "# integer encode the documents\n",
    "encoded_docs = t.texts_to_sequences(docs)\n",
    "print(encoded_docs)\n",
    "\n",
    "# pad documents to a max length of 4 words\n",
    "max_length = 4\n",
    "padded_docs = pad_sequences(encoded_docs, maxlen=max_length, padding='post')\n",
    "print(padded_docs)"
   ]
  },
  {
   "cell_type": "code",
   "execution_count": 111,
   "metadata": {},
   "outputs": [
    {
     "name": "stdout",
     "output_type": "stream",
     "text": [
      "glove.6B.100d.txt\t    glove.6B.50d.txt\t\t\tmodel_wv.txt\r\n",
      "glove.6B.100d.txt.word2vec  glove.6B.zip\t\t\tword2vec.model\r\n",
      "glove.6B.200d.txt\t    GoogleNews-vectors-negative300.bin\r\n",
      "glove.6B.300d.txt\t    model_wv.bin\r\n"
     ]
    }
   ],
   "source": [
    "!ls Models"
   ]
  },
  {
   "cell_type": "code",
   "execution_count": 112,
   "metadata": {},
   "outputs": [],
   "source": [
    "# Load the whole 100d embedding to memory. We are collecting this into a dictionary. It might be faster to filter out only the words in the training set from the word embedding.\n",
    "embeddings_index = dict()\n",
    "f = open('Models/glove.6B.100d.txt', mode='rt', encoding='utf-8')\n",
    "for line in f:\n",
    "    values = line.split()\n",
    "    word = values[0]\n",
    "    coefs = asarray(values[1:], dtype='float32')\n",
    "    embeddings_index[word] = coefs\n",
    "f.close()\n",
    "print('Loaded %s word vectors.'% len(embeddings_index))"
   ]
  },
  {
   "cell_type": "code",
   "execution_count": 113,
   "metadata": {},
   "outputs": [
    {
     "data": {
      "text/plain": [
       "400000"
      ]
     },
     "execution_count": 113,
     "metadata": {},
     "output_type": "execute_result"
    }
   ],
   "source": [
    "#\n",
    "len(embeddings_index)"
   ]
  },
  {
   "cell_type": "code",
   "execution_count": 114,
   "metadata": {},
   "outputs": [],
   "source": [
    "# Create a weight matrix for words in training docs\n",
    "embedding_matrix = zeros((vocab_size, 100))\n",
    "for word, i in t.word_index.items():\n",
    "    embedding_vector = embeddings_index.get(word)\n",
    "    if embedding_vector is not None:\n",
    "        embedding_matrix[i] = embedding_vector"
   ]
  },
  {
   "cell_type": "code",
   "execution_count": 115,
   "metadata": {},
   "outputs": [
    {
     "name": "stdout",
     "output_type": "stream",
     "text": [
      "Model: \"model_3\"\n",
      "_________________________________________________________________\n",
      "Layer (type)                 Output Shape              Param #   \n",
      "=================================================================\n",
      "input_4 (InputLayer)         (None, 4)                 0         \n",
      "_________________________________________________________________\n",
      "embedding_3 (Embedding)      (None, 4, 100)            1500      \n",
      "_________________________________________________________________\n",
      "flatten_3 (Flatten)          (None, 400)               0         \n",
      "_________________________________________________________________\n",
      "dense_3 (Dense)              (None, 1)                 401       \n",
      "=================================================================\n",
      "Total params: 1,901\n",
      "Trainable params: 401\n",
      "Non-trainable params: 1,500\n",
      "_________________________________________________________________\n"
     ]
    }
   ],
   "source": [
    "# Define a model\n",
    "visible = Input(shape=(max_len,))\n",
    "embed1 = Embedding(vocab_size, 100, weights=[embedding_matrix], trainable=False)(visible) # Notice trainable=Flase means we dont want to update the weights of our pretrained embedding. We just want to use as is.\n",
    "flat1 = Flatten()(embed1)\n",
    "output = Dense(1, activation='sigmoid')(flat1)\n",
    "model = Model(inputs = visible, outputs = output)\n",
    "model.summary()"
   ]
  },
  {
   "cell_type": "code",
   "execution_count": 116,
   "metadata": {},
   "outputs": [
    {
     "name": "stdout",
     "output_type": "stream",
     "text": [
      "Accuracy: 100.000000\n"
     ]
    }
   ],
   "source": [
    "# Compile and fit the model\n",
    "model.compile(optimizer='adam', loss='binary_crossentropy', metrics=['accuracy'])\n",
    "model.fit(padded_docs, labels, epochs=50, verbose=0)\n",
    "# Evaluate the model\n",
    "loss, accuracy = model.evaluate(padded_docs, labels, verbose=0)\n",
    "print('Accuracy: %f' %(accuracy*100))"
   ]
  },
  {
   "cell_type": "markdown",
   "metadata": {},
   "source": [
    "**In practice, experiment with learning a word embedding using a pretrained embedding that is fixed and then try to perform learning on top of a pretrained embedding. See what works best for your specific problem.**"
   ]
  },
  {
   "cell_type": "markdown",
   "metadata": {},
   "source": [
    "#### 5. Tips for Cleaning text for Word Embedding"
   ]
  },
  {
   "cell_type": "markdown",
   "metadata": {},
   "source": [
    "The field of NLP has been moving away from BOW models and word encoding toward word embeddings. \n",
    "\n",
    "The benefit of word embeddings is that they encode each word into a dense vector that captures something about its re;ative meaning within the training text. This means that variations of words like case, spelling, punctuation, and so on will automatically be learned to be similar in the embedding space. \n",
    "\n",
    "In turn, this can mean that the amount of cleaning required from your text may be less and perhaps quite different to classical text cleaning. For example, it might no longer make sense to stem words or remove punctuation for contractions."
   ]
  },
  {
   "cell_type": "code",
   "execution_count": null,
   "metadata": {},
   "outputs": [],
   "source": []
  }
 ],
 "metadata": {
  "kernelspec": {
   "display_name": "Python 3",
   "language": "python",
   "name": "python3"
  },
  "language_info": {
   "codemirror_mode": {
    "name": "ipython",
    "version": 3
   },
   "file_extension": ".py",
   "mimetype": "text/x-python",
   "name": "python",
   "nbconvert_exporter": "python",
   "pygments_lexer": "ipython3",
   "version": "3.7.3"
  }
 },
 "nbformat": 4,
 "nbformat_minor": 2
}
